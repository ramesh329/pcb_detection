{
 "cells": [
  {
   "cell_type": "code",
   "execution_count": 2,
   "metadata": {},
   "outputs": [],
   "source": [
    "from fastai.vision import load_learner, Image, pil2tensor\n",
    "from torch import no_grad as torch_no_grad\n",
    "from cv2 import imread, split, merge\n",
    "from detection_network import get_predictions"
   ]
  },
  {
   "cell_type": "code",
   "execution_count": 3,
   "metadata": {},
   "outputs": [],
   "source": [
    "classes = ['10_p', '11_q', '12_r', '13_s', '13_s_rotated', '14_t', '15_e', '16_k', '17_u', '18_v', '19_w', '1_a', '20_f',\n",
    "           '20_f_rotated', '21_g', '22_g', '23_h', '24_h', '25_f', '25_f_rotated', '26_f', '27_x', '27_x_rotated', '28_i',\n",
    "           '28_i_rotated', '29_i', '2_a', '30_i', '30_i_rotated', '31_j', '32_j', '33_e', '34_k', '35_k', '36_i', \n",
    "           '36_i_rotated', '37_i', '38_l', '39_l', '3_b', '40_l', '41_y', '42_z', '42_z_rotated', '43_m', '44_m', \n",
    "           '44_m_rotated', '45_i', '45_i_rotated', '46_n', '46_n_rotated', '47_n', '47_n_rotated', '48_n', '48_n_rotated', \n",
    "           '49_aa', '4_b', '50_n', '51_n', '51_n_rotated', '52_ab', '53_ac', '54_ad', '55_l', '56_ae', '57_af', '58_i', \n",
    "           '59_o', '5_c', '60_o', '60_o_rotated', '6_ag', '6_ag_rotated', '7_c', '8_d', '9_d']"
   ]
  },
  {
   "cell_type": "code",
   "execution_count": 4,
   "metadata": {},
   "outputs": [],
   "source": [
    "def get_prediction_image(path,sz=256):\n",
    "    bgr_img = imread(path)\n",
    "    b,g,r = split(bgr_img)\n",
    "    rgb_img = merge([r,g,b])\n",
    "    rgb_img = rgb_img/255\n",
    "    img = Image(px=pil2tensor(rgb_img, np.float32))\n",
    "    img = img.resize((3,sz,sz))\n",
    "    return img.px.reshape(1,3,sz,sz)"
   ]
  },
  {
   "cell_type": "code",
   "execution_count": 5,
   "metadata": {},
   "outputs": [],
   "source": [
    "learner = load_learner(path='.',file='pcb_msng_and_rotd.pkl',device='cpu')"
   ]
  },
  {
   "cell_type": "code",
   "execution_count": 154,
   "metadata": {},
   "outputs": [],
   "source": [
    "model = learner.model.cpu()"
   ]
  },
  {
   "cell_type": "code",
   "execution_count": 187,
   "metadata": {},
   "outputs": [],
   "source": [
    "img = get_prediction_image('/home/ubuntu/bmk_work/nnets/DLAssignment/24.24.jpg')"
   ]
  },
  {
   "cell_type": "code",
   "execution_count": 188,
   "metadata": {},
   "outputs": [],
   "source": [
    "with torch_no_grad():\n",
    "    output = model(img)"
   ]
  },
  {
   "cell_type": "code",
   "execution_count": 189,
   "metadata": {},
   "outputs": [],
   "source": [
    "bboxes, preds, scores = get_predictions(output,0, detect_thresh=0.018)"
   ]
  },
  {
   "cell_type": "code",
   "execution_count": 190,
   "metadata": {},
   "outputs": [],
   "source": [
    "pred_labels = [classes[pred] for pred in preds]"
   ]
  },
  {
   "cell_type": "code",
   "execution_count": 191,
   "metadata": {},
   "outputs": [],
   "source": [
    "# pred_labels"
   ]
  },
  {
   "cell_type": "code",
   "execution_count": 192,
   "metadata": {},
   "outputs": [
    {
     "name": "stdout",
     "output_type": "stream",
     "text": [
      "['27_x_rotated', '28_i_rotated']\n"
     ]
    }
   ],
   "source": [
    "rotated_comps = [pred for pred in pred_labels if 'rotated' in pred]\n",
    "print(rotated_comps)"
   ]
  },
  {
   "cell_type": "code",
   "execution_count": 186,
   "metadata": {},
   "outputs": [],
   "source": [
    "with open(\"./DLAssignment/number_to_type.json\") as read_file:\n",
    "    json_str = read_file.read()"
   ]
  },
  {
   "cell_type": "code",
   "execution_count": 121,
   "metadata": {},
   "outputs": [],
   "source": [
    "from ast import literal_eval"
   ]
  },
  {
   "cell_type": "code",
   "execution_count": 122,
   "metadata": {},
   "outputs": [],
   "source": [
    "label_dict = literal_eval(json_str)"
   ]
  },
  {
   "cell_type": "code",
   "execution_count": 123,
   "metadata": {},
   "outputs": [],
   "source": [
    "gt_labels = [k+'_'+v for k,v in label_dict.items()]"
   ]
  },
  {
   "cell_type": "code",
   "execution_count": 195,
   "metadata": {},
   "outputs": [
    {
     "name": "stdout",
     "output_type": "stream",
     "text": [
      "['1_a', '2_a', '3_b', '4_b', '5_c', '6_ag', '7_c', '8_d', '9_d', '10_p', '11_q', '12_r', '13_s', '14_t', '15_e', '16_k', '17_u', '18_v', '19_w', '20_f', '21_g', '22_g', '23_h', '24_h', '25_f', '26_f', '27_x', '28_i', '29_i', '30_i', '31_j', '32_j', '33_e', '34_k', '35_k', '36_i', '37_i', '38_l', '39_l', '40_l', '41_y', '42_z', '43_m', '44_m', '45_i', '46_n', '47_n', '48_n', '49_aa', '50_n', '51_n', '52_ab', '53_ac', '54_ad', '55_l', '56_ae', '57_af', '58_i', '59_o', '60_o']\n"
     ]
    }
   ],
   "source": [
    "print(gt_labels)"
   ]
  },
  {
   "cell_type": "code",
   "execution_count": 193,
   "metadata": {},
   "outputs": [],
   "source": [
    "missing = set(gt_labels) - set(pred_labels)\n",
    "rotated = set(pred_labels) - set(gt_labels)"
   ]
  },
  {
   "cell_type": "code",
   "execution_count": 194,
   "metadata": {},
   "outputs": [
    {
     "name": "stdout",
     "output_type": "stream",
     "text": [
      "Component 27 Rotated\n",
      "Component 28 Rotated\n"
     ]
    }
   ],
   "source": [
    "for mc in missing:\n",
    "    print(f\"Component {mc.split('_')[0]} Missing\")\n",
    "for rot in rotated:\n",
    "    print(f\"Component {rot.split('_')[0]} Rotated\")"
   ]
  },
  {
   "cell_type": "code",
   "execution_count": 198,
   "metadata": {},
   "outputs": [
    {
     "data": {
      "text/plain": [
       "{'27_x_rotated', '28_i_rotated'}"
      ]
     },
     "execution_count": 198,
     "metadata": {},
     "output_type": "execute_result"
    }
   ],
   "source": [
    "missing.union(rotated)"
   ]
  },
  {
   "cell_type": "code",
   "execution_count": null,
   "metadata": {},
   "outputs": [],
   "source": []
  }
 ],
 "metadata": {
  "kernelspec": {
   "display_name": "Python [conda env:fastai-V1]",
   "language": "python",
   "name": "conda-env-fastai-V1-py"
  },
  "language_info": {
   "codemirror_mode": {
    "name": "ipython",
    "version": 3
   },
   "file_extension": ".py",
   "mimetype": "text/x-python",
   "name": "python",
   "nbconvert_exporter": "python",
   "pygments_lexer": "ipython3",
   "version": "3.7.3"
  }
 },
 "nbformat": 4,
 "nbformat_minor": 2
}
