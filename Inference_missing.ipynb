{
 "cells": [
  {
   "cell_type": "code",
   "execution_count": 24,
   "metadata": {},
   "outputs": [],
   "source": [
    "from fastai.vision import load_learner, Image, pil2tensor\n",
    "from torch import no_grad as torch_no_grad\n",
    "from cv2 import imread, split, merge\n",
    "from detection_network import get_predictions"
   ]
  },
  {
   "cell_type": "code",
   "execution_count": 25,
   "metadata": {},
   "outputs": [],
   "source": [
    "classes = ['10_p', '4_b', '36_i', '37_i', '39_l', '41_y', '42_z', '43_m', '44_m', '45_i', '51_n',\n",
    "           '30_i', '55_l', '57_af', '59_o', '5_c', '60_o', '6_ag', '7_c', '8_d', '33_e', '38_l', '2_a',\n",
    "           '25_f', '18_v', '19_w', '1_a', '14_t', '13_s', '22_g', '23_h', '24_h', '21_g', '17_u', '28_i',\n",
    "           '26_f', '12_r', '27_x', '29_i', '40_l', '32_j', '15_e', '46_n', '34_k', '35_k', '20_f', '50_n',\n",
    "           '56_ae', '3_b', '58_i', '52_ab', '16_k', '53_ac', '47_n', '48_n', '31_j', '11_q', '9_d', '54_ad', '49_aa']"
   ]
  },
  {
   "cell_type": "code",
   "execution_count": 26,
   "metadata": {},
   "outputs": [],
   "source": [
    "def get_prediction_image(path,sz=256):\n",
    "    bgr_img = imread(path)\n",
    "    b,g,r = split(bgr_img)\n",
    "    rgb_img = merge([r,g,b])\n",
    "    rgb_img = rgb_img/255\n",
    "    img = Image(px=pil2tensor(rgb_img, np.float32))\n",
    "    img = img.resize((3,sz,sz))\n",
    "    return img.px.reshape(1,3,sz,sz)"
   ]
  },
  {
   "cell_type": "code",
   "execution_count": 27,
   "metadata": {},
   "outputs": [],
   "source": [
    "learner = load_learner(path='.',file='export.pkl',device='cpu')"
   ]
  },
  {
   "cell_type": "code",
   "execution_count": 28,
   "metadata": {},
   "outputs": [],
   "source": [
    "img = get_prediction_image('/home/ubuntu/bmk_work/nnets/valid/8.jpg')"
   ]
  },
  {
   "cell_type": "code",
   "execution_count": 29,
   "metadata": {},
   "outputs": [],
   "source": [
    "model = learner.model.cpu()"
   ]
  },
  {
   "cell_type": "code",
   "execution_count": 30,
   "metadata": {},
   "outputs": [],
   "source": [
    "with torch_no_grad():\n",
    "    output = model(img)"
   ]
  },
  {
   "cell_type": "code",
   "execution_count": 31,
   "metadata": {},
   "outputs": [],
   "source": [
    "bboxes, preds, scores = get_predictions(output,0, detect_thresh=0.10)"
   ]
  },
  {
   "cell_type": "code",
   "execution_count": 33,
   "metadata": {},
   "outputs": [],
   "source": [
    "pred_labels = [classes[pred] for pred in preds]"
   ]
  },
  {
   "cell_type": "code",
   "execution_count": 34,
   "metadata": {},
   "outputs": [
    {
     "data": {
      "text/plain": [
       "['39_l',\n",
       " '37_i',\n",
       " '60_o',\n",
       " '27_x',\n",
       " '6_ag',\n",
       " '36_i',\n",
       " '55_l',\n",
       " '12_r',\n",
       " '11_q',\n",
       " '27_x',\n",
       " '51_n',\n",
       " '2_a',\n",
       " '30_i',\n",
       " '48_n',\n",
       " '38_l',\n",
       " '57_af',\n",
       " '8_d',\n",
       " '18_v',\n",
       " '10_p',\n",
       " '23_h',\n",
       " '1_a',\n",
       " '33_e',\n",
       " '42_z',\n",
       " '7_c',\n",
       " '4_b',\n",
       " '26_f',\n",
       " '9_d',\n",
       " '25_f',\n",
       " '14_t',\n",
       " '3_b',\n",
       " '5_c',\n",
       " '43_m',\n",
       " '59_o',\n",
       " '16_k',\n",
       " '13_s',\n",
       " '24_h',\n",
       " '51_n',\n",
       " '58_i',\n",
       " '43_m',\n",
       " '45_i',\n",
       " '31_j',\n",
       " '22_g',\n",
       " '17_u',\n",
       " '33_e',\n",
       " '31_j',\n",
       " '54_ad',\n",
       " '29_i',\n",
       " '52_ab',\n",
       " '21_g',\n",
       " '28_i',\n",
       " '41_y',\n",
       " '9_d',\n",
       " '23_h',\n",
       " '52_ab',\n",
       " '29_i',\n",
       " '28_i',\n",
       " '46_n',\n",
       " '15_e',\n",
       " '4_b',\n",
       " '57_af',\n",
       " '4_b',\n",
       " '28_i',\n",
       " '5_c',\n",
       " '24_h',\n",
       " '31_j',\n",
       " '25_f',\n",
       " '43_m',\n",
       " '8_d',\n",
       " '32_j',\n",
       " '19_w',\n",
       " '21_g',\n",
       " '13_s',\n",
       " '52_ab',\n",
       " '7_c',\n",
       " '10_p',\n",
       " '49_aa',\n",
       " '33_e',\n",
       " '28_i',\n",
       " '23_h',\n",
       " '46_n',\n",
       " '33_e',\n",
       " '24_h',\n",
       " '16_k',\n",
       " '6_ag',\n",
       " '1_a',\n",
       " '12_r',\n",
       " '19_w',\n",
       " '33_e',\n",
       " '14_t',\n",
       " '2_a',\n",
       " '40_l',\n",
       " '32_j',\n",
       " '44_m',\n",
       " '31_j',\n",
       " '46_n',\n",
       " '36_i',\n",
       " '28_i',\n",
       " '58_i',\n",
       " '15_e',\n",
       " '8_d',\n",
       " '48_n',\n",
       " '57_af',\n",
       " '17_u',\n",
       " '2_a',\n",
       " '32_j',\n",
       " '4_b',\n",
       " '10_p',\n",
       " '27_x',\n",
       " '47_n',\n",
       " '54_ad',\n",
       " '19_w',\n",
       " '35_k',\n",
       " '10_p',\n",
       " '24_h',\n",
       " '52_ab',\n",
       " '8_d',\n",
       " '58_i',\n",
       " '56_ae',\n",
       " '36_i',\n",
       " '31_j',\n",
       " '43_m',\n",
       " '28_i',\n",
       " '11_q',\n",
       " '24_h',\n",
       " '27_x',\n",
       " '53_ac',\n",
       " '8_d',\n",
       " '46_n',\n",
       " '12_r',\n",
       " '32_j',\n",
       " '41_y',\n",
       " '47_n',\n",
       " '27_x',\n",
       " '54_ad',\n",
       " '6_ag',\n",
       " '23_h',\n",
       " '8_d',\n",
       " '39_l',\n",
       " '54_ad',\n",
       " '24_h',\n",
       " '18_v',\n",
       " '31_j',\n",
       " '24_h',\n",
       " '34_k',\n",
       " '56_ae',\n",
       " '28_i',\n",
       " '54_ad',\n",
       " '46_n']"
      ]
     },
     "execution_count": 34,
     "metadata": {},
     "output_type": "execute_result"
    }
   ],
   "source": [
    "pred_labels"
   ]
  },
  {
   "cell_type": "code",
   "execution_count": 9,
   "metadata": {},
   "outputs": [],
   "source": [
    "with open(\"./DLAssignment/number_to_type.json\") as read_file:\n",
    "    json_str = read_file.read()"
   ]
  },
  {
   "cell_type": "code",
   "execution_count": 13,
   "metadata": {},
   "outputs": [],
   "source": [
    "from ast import literal_eval"
   ]
  },
  {
   "cell_type": "code",
   "execution_count": 15,
   "metadata": {},
   "outputs": [],
   "source": [
    "label_dict = literal_eval(json_str)"
   ]
  },
  {
   "cell_type": "code",
   "execution_count": 20,
   "metadata": {},
   "outputs": [],
   "source": [
    "gt_labels = [k+'_'+v for k,v in label_dict.items()]"
   ]
  },
  {
   "cell_type": "code",
   "execution_count": 21,
   "metadata": {},
   "outputs": [
    {
     "data": {
      "text/plain": [
       "['1_a',\n",
       " '2_a',\n",
       " '3_b',\n",
       " '4_b',\n",
       " '5_c',\n",
       " '6_ag',\n",
       " '7_c',\n",
       " '8_d',\n",
       " '9_d',\n",
       " '10_p',\n",
       " '11_q',\n",
       " '12_r',\n",
       " '13_s',\n",
       " '14_t',\n",
       " '15_e',\n",
       " '16_k',\n",
       " '17_u',\n",
       " '18_v',\n",
       " '19_w',\n",
       " '20_f',\n",
       " '21_g',\n",
       " '22_g',\n",
       " '23_h',\n",
       " '24_h',\n",
       " '25_f',\n",
       " '26_f',\n",
       " '27_x',\n",
       " '28_i',\n",
       " '29_i',\n",
       " '30_i',\n",
       " '31_j',\n",
       " '32_j',\n",
       " '33_e',\n",
       " '34_k',\n",
       " '35_k',\n",
       " '36_i',\n",
       " '37_i',\n",
       " '38_l',\n",
       " '39_l',\n",
       " '40_l',\n",
       " '41_y',\n",
       " '42_z',\n",
       " '43_m',\n",
       " '44_m',\n",
       " '45_i',\n",
       " '46_n',\n",
       " '47_n',\n",
       " '48_n',\n",
       " '49_aa',\n",
       " '50_n',\n",
       " '51_n',\n",
       " '52_ab',\n",
       " '53_ac',\n",
       " '54_ad',\n",
       " '55_l',\n",
       " '56_ae',\n",
       " '57_af',\n",
       " '58_i',\n",
       " '59_o',\n",
       " '60_o']"
      ]
     },
     "execution_count": 21,
     "metadata": {},
     "output_type": "execute_result"
    }
   ],
   "source": [
    "gt_labels"
   ]
  },
  {
   "cell_type": "code",
   "execution_count": 38,
   "metadata": {},
   "outputs": [],
   "source": [
    "missing = set(gt_labels) - set(pred_labels)"
   ]
  },
  {
   "cell_type": "code",
   "execution_count": 39,
   "metadata": {},
   "outputs": [
    {
     "name": "stdout",
     "output_type": "stream",
     "text": [
      "Component 50 Missing\n",
      "Component 20 Missing\n"
     ]
    }
   ],
   "source": [
    "for mc in missing:\n",
    "    print(f\"Component {mc.split('_')[0]} Missing\")"
   ]
  },
  {
   "cell_type": "code",
   "execution_count": null,
   "metadata": {},
   "outputs": [],
   "source": []
  }
 ],
 "metadata": {
  "kernelspec": {
   "display_name": "Python [conda env:fastai-V1]",
   "language": "python",
   "name": "conda-env-fastai-V1-py"
  },
  "language_info": {
   "codemirror_mode": {
    "name": "ipython",
    "version": 3
   },
   "file_extension": ".py",
   "mimetype": "text/x-python",
   "name": "python",
   "nbconvert_exporter": "python",
   "pygments_lexer": "ipython3",
   "version": "3.7.3"
  }
 },
 "nbformat": 4,
 "nbformat_minor": 2
}
